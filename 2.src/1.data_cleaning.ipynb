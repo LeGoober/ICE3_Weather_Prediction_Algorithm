{
 "cells": [
  {
   "cell_type": "markdown",
   "id": "d4973efb",
   "metadata": {},
   "source": [
    "# Overview of Data Cleaning\n",
    ">The process of data cleaning involves ensuring that the dataset we are using for the Decision Tree machine learning algorithm allows us to extract the relevant features required for the Decision Tree algorithm. Currently our dataset (the `weather_classification_data.csv`) contains various features that indicate weather conditions based and we aim to use these features for determining the activities an individual would perform based on the conditions."
   ]
  },
  {
   "cell_type": "code",
   "execution_count": 7,
   "id": "d118094f",
   "metadata": {},
   "outputs": [],
   "source": [
    "#1. Importing the pandas libaray for data manipulation\n",
    "import pandas as pd"
   ]
  },
  {
   "cell_type": "code",
   "execution_count": 8,
   "id": "fea4c129",
   "metadata": {},
   "outputs": [
    {
     "name": "stdout",
     "output_type": "stream",
     "text": [
      "Features (X) shape: (100, 9)\n",
      "Target (y) shape: (100,)\n",
      "Feature columns: ['Temperature', 'Humidity', 'Wind Speed', 'Precipitation (%)', 'Cloud Cover', 'UV Index', 'Season', 'Visibility (km)', 'Location']\n"
     ]
    }
   ],
   "source": [
    "##2. Unpacking the dataset\n",
    "weather_classification_data = pd.read_csv('../data/raw_data/weather_classification_data.csv')\n",
    "\n",
    "weather_classification_data.columns = [\n",
    "    \"Temperature\",\n",
    "    \"Humidity\",\n",
    "    \"Wind Speed\",\n",
    "    \"Precipitation (%)\",\n",
    "    \"Cloud Cover\",\n",
    "    \"Atmospheric Pressure\",\n",
    "    \"UV Index\",\n",
    "    \"Season\",\n",
    "    \"Visibility (km)\",\n",
    "    \"Location\",\n",
    "    \"Weather Type\"\n",
    "]\n",
    "\n",
    "# 3. Remove the 'Atmospheric Pressure' column\n",
    "new_weather_classification_data = weather_classification_data.drop(\"Atmospheric Pressure\", axis=1)\n",
    "\n",
    "# 4. Select the first 100 rows\n",
    "subset_weather_data = new_weather_classification_data.iloc[:100, :]\n",
    "\n",
    "# 5. Separate features (X) and target (y)\n",
    "# Features: All columns except 'Weather Type'\n",
    "weather_classification_data_x = subset_weather_data.drop(\"Weather Type\", axis=1)\n",
    "# Target: Only the 'Weather Type' column\n",
    "weather_classification_data_y = subset_weather_data[\"Weather Type\"]\n",
    "# 6. Verify the shapes\n",
    "print(\"Features (X) shape:\", weather_classification_data_x.shape)\n",
    "print(\"Target (y) shape:\", weather_classification_data_y.shape)\n",
    "print(\"Feature columns:\", weather_classification_data_x.columns.tolist())"
   ]
  }
 ],
 "metadata": {
  "kernelspec": {
   "display_name": "venv",
   "language": "python",
   "name": "python3"
  },
  "language_info": {
   "codemirror_mode": {
    "name": "ipython",
    "version": 3
   },
   "file_extension": ".py",
   "mimetype": "text/x-python",
   "name": "python",
   "nbconvert_exporter": "python",
   "pygments_lexer": "ipython3",
   "version": "3.11.9"
  }
 },
 "nbformat": 4,
 "nbformat_minor": 5
}
